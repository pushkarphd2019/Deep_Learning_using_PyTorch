{
 "cells": [
  {
   "metadata": {},
   "cell_type": "markdown",
   "source": "# 1. Loading MNIST Dataset",
   "id": "5499b03439790f63"
  },
  {
   "metadata": {
    "ExecuteTime": {
     "end_time": "2024-12-25T14:28:59.749627Z",
     "start_time": "2024-12-25T14:28:57.280535Z"
    }
   },
   "cell_type": "code",
   "source": "from torchvision.datasets import MNIST",
   "id": "402350f807ee2651",
   "outputs": [],
   "execution_count": 1
  },
  {
   "metadata": {},
   "cell_type": "code",
   "outputs": [],
   "execution_count": null,
   "source": "",
   "id": "23456b19d5bedab"
  }
 ],
 "metadata": {
  "kernelspec": {
   "display_name": "Python 3",
   "language": "python",
   "name": "python3"
  },
  "language_info": {
   "codemirror_mode": {
    "name": "ipython",
    "version": 2
   },
   "file_extension": ".py",
   "mimetype": "text/x-python",
   "name": "python",
   "nbconvert_exporter": "python",
   "pygments_lexer": "ipython2",
   "version": "2.7.6"
  }
 },
 "nbformat": 4,
 "nbformat_minor": 5
}
